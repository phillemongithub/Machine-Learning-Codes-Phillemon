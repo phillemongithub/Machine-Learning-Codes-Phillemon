{
 "cells": [
  {
   "cell_type": "code",
   "execution_count": 1,
   "metadata": {
    "colab": {},
    "colab_type": "code",
    "collapsed": true,
    "id": "UOz1raGXvy7W"
   },
   "outputs": [],
   "source": [
    "#importing important "
   ]
  },
  {
   "cell_type": "code",
   "execution_count": 2,
   "metadata": {
    "colab": {
     "base_uri": "https://localhost:8080/",
     "height": 35
    },
    "colab_type": "code",
    "collapsed": false,
    "executionInfo": {
     "elapsed": 3711,
     "status": "ok",
     "timestamp": 1536668973231,
     "user": {
      "displayName": "Phillemon Ntona Senoamadi",
      "photoUrl": "https://lh3.googleusercontent.com/a/default-user=s128",
      "userId": "104483240676729797111"
     },
     "user_tz": -120
    },
    "id": "hWCXXxrRygSg",
    "outputId": "eb968a5f-c3b2-45f2-b552-c0cf223ec12d"
   },
   "outputs": [
    {
     "name": "stderr",
     "output_type": "stream",
     "text": [
      "Using TensorFlow backend.\n"
     ]
    }
   ],
   "source": [
    "from math import sqrt\n",
    "from keras.layers import LSTM\n",
    "from keras.layers import merge, Input, Dense, TimeDistributed, Lambda                                   \n",
    "from numpy import concatenate\n",
    "from matplotlib import pyplot\n",
    "from pandas import read_csv\n",
    "from pandas import DataFrame\n",
    "from pandas import concat\n",
    "from sklearn.preprocessing import MinMaxScaler\n",
    "from sklearn.preprocessing import LabelEncoder\n",
    "from sklearn.metrics import mean_squared_error\n",
    "from keras.models import Sequential\n",
    "from keras.layers import Dense\n",
    "import pandas as pd\n",
    "import numpy as np\n",
    "from keras import optimizers\n",
    "#from keras import activation\n",
    "from keras.layers import Dense, Softmax, Dropout\n",
    "from keras.layers import Activation, Dense"
   ]
  },
  {
   "cell_type": "code",
   "execution_count": 3,
   "metadata": {
    "collapsed": false
   },
   "outputs": [
    {
     "name": "stderr",
     "output_type": "stream",
     "text": [
      "/usr/lib/python3/dist-packages/IPython/core/interactiveshell.py:2717: DtypeWarning: Columns (26,27,28,29) have mixed types. Specify dtype option on import or set low_memory=False.\n",
      "  interactivity=interactivity, compiler=compiler, result=result)\n"
     ]
    }
   ],
   "source": [
    "#loading data\n",
    "Station14=pd.read_csv('wind14.csv')\n",
    "Station13=pd.read_csv('wm013.csv')"
   ]
  },
  {
   "cell_type": "code",
   "execution_count": 4,
   "metadata": {
    "collapsed": false
   },
   "outputs": [
    {
     "data": {
      "text/plain": [
       "(105264, 47)"
      ]
     },
     "execution_count": 4,
     "metadata": {},
     "output_type": "execute_result"
    }
   ],
   "source": [
    "#Adding index to our time frame\n",
    "time_series = pd.Series([(10*i) for  i in  Station13.index])\n",
    "#printing the shape\n",
    "Station13.shape"
   ]
  },
  {
   "cell_type": "code",
   "execution_count": 8,
   "metadata": {
    "collapsed": false
   },
   "outputs": [
    {
     "data": {
      "text/html": [
       "<div>\n",
       "<style scoped>\n",
       "    .dataframe tbody tr th:only-of-type {\n",
       "        vertical-align: middle;\n",
       "    }\n",
       "\n",
       "    .dataframe tbody tr th {\n",
       "        vertical-align: top;\n",
       "    }\n",
       "\n",
       "    .dataframe thead th {\n",
       "        text-align: right;\n",
       "    }\n",
       "</style>\n",
       "<table border=\"1\" class=\"dataframe\">\n",
       "  <thead>\n",
       "    <tr style=\"text-align: right;\">\n",
       "      <th></th>\n",
       "      <th>time</th>\n",
       "      <th>WS_62_mean</th>\n",
       "      <th>WS_60_mean</th>\n",
       "      <th>WS_40_mean</th>\n",
       "      <th>WS_20_mean</th>\n",
       "      <th>WS_10_mean</th>\n",
       "      <th>WD_60_mean</th>\n",
       "      <th>WD_20_mean</th>\n",
       "      <th>Tair_mean</th>\n",
       "      <th>Tgrad_mean</th>\n",
       "      <th>Pbaro_mean</th>\n",
       "      <th>RH_mean</th>\n",
       "    </tr>\n",
       "  </thead>\n",
       "  <tbody>\n",
       "    <tr>\n",
       "      <th>0</th>\n",
       "      <td>0</td>\n",
       "      <td>4.1629</td>\n",
       "      <td>4.0932</td>\n",
       "      <td>3.2474</td>\n",
       "      <td>2.7962</td>\n",
       "      <td>2.1617</td>\n",
       "      <td>5.9467</td>\n",
       "      <td>37.2267</td>\n",
       "      <td>17.58</td>\n",
       "      <td>1.251</td>\n",
       "      <td>1009.28</td>\n",
       "      <td>95.5</td>\n",
       "    </tr>\n",
       "    <tr>\n",
       "      <th>1</th>\n",
       "      <td>10</td>\n",
       "      <td>4.0387</td>\n",
       "      <td>3.9846</td>\n",
       "      <td>3.3663</td>\n",
       "      <td>2.9733</td>\n",
       "      <td>2.2545</td>\n",
       "      <td>7.0867</td>\n",
       "      <td>37.4267</td>\n",
       "      <td>17.49</td>\n",
       "      <td>1.179</td>\n",
       "      <td>1009.04</td>\n",
       "      <td>95.6</td>\n",
       "    </tr>\n",
       "    <tr>\n",
       "      <th>2</th>\n",
       "      <td>20</td>\n",
       "      <td>3.7964</td>\n",
       "      <td>3.7462</td>\n",
       "      <td>3.6693</td>\n",
       "      <td>2.8509</td>\n",
       "      <td>2.1505</td>\n",
       "      <td>8.5867</td>\n",
       "      <td>37.4867</td>\n",
       "      <td>17.32</td>\n",
       "      <td>1.077</td>\n",
       "      <td>1009.04</td>\n",
       "      <td>95.7</td>\n",
       "    </tr>\n",
       "    <tr>\n",
       "      <th>3</th>\n",
       "      <td>30</td>\n",
       "      <td>4.0927</td>\n",
       "      <td>4.0783</td>\n",
       "      <td>4.0395</td>\n",
       "      <td>2.8838</td>\n",
       "      <td>2.1941</td>\n",
       "      <td>5.8367</td>\n",
       "      <td>29.9067</td>\n",
       "      <td>17.33</td>\n",
       "      <td>1.168</td>\n",
       "      <td>1008.80</td>\n",
       "      <td>96.3</td>\n",
       "    </tr>\n",
       "  </tbody>\n",
       "</table>\n",
       "</div>"
      ],
      "text/plain": [
       "   time   WS_62_mean   WS_60_mean   WS_40_mean   WS_20_mean   WS_10_mean  \\\n",
       "0     0       4.1629       4.0932       3.2474       2.7962       2.1617   \n",
       "1    10       4.0387       3.9846       3.3663       2.9733       2.2545   \n",
       "2    20       3.7964       3.7462       3.6693       2.8509       2.1505   \n",
       "3    30       4.0927       4.0783       4.0395       2.8838       2.1941   \n",
       "\n",
       "    WD_60_mean  WD_20_mean   Tair_mean   Tgrad_mean   Pbaro_mean   RH_mean  \n",
       "0       5.9467     37.2267       17.58        1.251      1009.28      95.5  \n",
       "1       7.0867     37.4267       17.49        1.179      1009.04      95.6  \n",
       "2       8.5867     37.4867       17.32        1.077      1009.04      95.7  \n",
       "3       5.8367     29.9067       17.33        1.168      1008.80      96.3  "
      ]
     },
     "execution_count": 8,
     "metadata": {},
     "output_type": "execute_result"
    }
   ],
   "source": [
    "# extracting all calculated mean features for station 13\n",
    "new_columns1 = [Station13.loc[:, name] for name in Station13.columns if name.endswith(\"mean\") and not name.startswith(\"WS_\")]\n",
    "new_columns1.insert(0, time_series)\n",
    "# return the date time on our datab frame\n",
    "result1 = pd.concat(new_columns1, axis=1)\n",
    "result1=result1.rename(columns={0:\"time\"})\n",
    "result1.loc[:3]"
   ]
  },
  {
   "cell_type": "code",
   "execution_count": 6,
   "metadata": {
    "collapsed": true
   },
   "outputs": [],
   "source": [
    "# extracting all calculated mean features for station 13\n",
    "new_columns2 = [Station14.loc[:, name] for name in Station14.columns if name.endswith(\"mean\") and not name.startswith(\"WS_\")]\n",
    "new_columns2.insert(0, time_series)\n",
    "result2 = pd.concat(new_columns2, axis=1)"
   ]
  },
  {
   "cell_type": "code",
   "execution_count": 9,
   "metadata": {
    "collapsed": false
   },
   "outputs": [
    {
     "data": {
      "text/html": [
       "<div>\n",
       "<style scoped>\n",
       "    .dataframe tbody tr th:only-of-type {\n",
       "        vertical-align: middle;\n",
       "    }\n",
       "\n",
       "    .dataframe tbody tr th {\n",
       "        vertical-align: top;\n",
       "    }\n",
       "\n",
       "    .dataframe thead th {\n",
       "        text-align: right;\n",
       "    }\n",
       "</style>\n",
       "<table border=\"1\" class=\"dataframe\">\n",
       "  <thead>\n",
       "    <tr style=\"text-align: right;\">\n",
       "      <th></th>\n",
       "      <th>time</th>\n",
       "      <th>WS_62_mean</th>\n",
       "      <th>WS_60_mean</th>\n",
       "      <th>WS_40_mean</th>\n",
       "      <th>WS_20_mean</th>\n",
       "      <th>WS_10_mean</th>\n",
       "      <th>WD_60_mean</th>\n",
       "      <th>WD_20_mean</th>\n",
       "      <th>Tair_mean</th>\n",
       "      <th>Tgrad_mean</th>\n",
       "      <th>Pbaro_mean</th>\n",
       "      <th>RH_mean</th>\n",
       "    </tr>\n",
       "  </thead>\n",
       "  <tbody>\n",
       "    <tr>\n",
       "      <th>0</th>\n",
       "      <td>0</td>\n",
       "      <td>4.1629</td>\n",
       "      <td>4.0932</td>\n",
       "      <td>3.2474</td>\n",
       "      <td>2.7962</td>\n",
       "      <td>2.1617</td>\n",
       "      <td>5.9467</td>\n",
       "      <td>37.2267</td>\n",
       "      <td>17.58</td>\n",
       "      <td>1.251</td>\n",
       "      <td>1009.28</td>\n",
       "      <td>95.5</td>\n",
       "    </tr>\n",
       "    <tr>\n",
       "      <th>1</th>\n",
       "      <td>10</td>\n",
       "      <td>4.0387</td>\n",
       "      <td>3.9846</td>\n",
       "      <td>3.3663</td>\n",
       "      <td>2.9733</td>\n",
       "      <td>2.2545</td>\n",
       "      <td>7.0867</td>\n",
       "      <td>37.4267</td>\n",
       "      <td>17.49</td>\n",
       "      <td>1.179</td>\n",
       "      <td>1009.04</td>\n",
       "      <td>95.6</td>\n",
       "    </tr>\n",
       "    <tr>\n",
       "      <th>2</th>\n",
       "      <td>20</td>\n",
       "      <td>3.7964</td>\n",
       "      <td>3.7462</td>\n",
       "      <td>3.6693</td>\n",
       "      <td>2.8509</td>\n",
       "      <td>2.1505</td>\n",
       "      <td>8.5867</td>\n",
       "      <td>37.4867</td>\n",
       "      <td>17.32</td>\n",
       "      <td>1.077</td>\n",
       "      <td>1009.04</td>\n",
       "      <td>95.7</td>\n",
       "    </tr>\n",
       "    <tr>\n",
       "      <th>3</th>\n",
       "      <td>30</td>\n",
       "      <td>4.0927</td>\n",
       "      <td>4.0783</td>\n",
       "      <td>4.0395</td>\n",
       "      <td>2.8838</td>\n",
       "      <td>2.1941</td>\n",
       "      <td>5.8367</td>\n",
       "      <td>29.9067</td>\n",
       "      <td>17.33</td>\n",
       "      <td>1.168</td>\n",
       "      <td>1008.80</td>\n",
       "      <td>96.3</td>\n",
       "    </tr>\n",
       "  </tbody>\n",
       "</table>\n",
       "</div>"
      ],
      "text/plain": [
       "   time   WS_62_mean   WS_60_mean   WS_40_mean   WS_20_mean   WS_10_mean  \\\n",
       "0     0       4.1629       4.0932       3.2474       2.7962       2.1617   \n",
       "1    10       4.0387       3.9846       3.3663       2.9733       2.2545   \n",
       "2    20       3.7964       3.7462       3.6693       2.8509       2.1505   \n",
       "3    30       4.0927       4.0783       4.0395       2.8838       2.1941   \n",
       "\n",
       "    WD_60_mean  WD_20_mean   Tair_mean   Tgrad_mean   Pbaro_mean   RH_mean  \n",
       "0       5.9467     37.2267       17.58        1.251      1009.28      95.5  \n",
       "1       7.0867     37.4267       17.49        1.179      1009.04      95.6  \n",
       "2       8.5867     37.4867       17.32        1.077      1009.04      95.7  \n",
       "3       5.8367     29.9067       17.33        1.168      1008.80      96.3  "
      ]
     },
     "execution_count": 9,
     "metadata": {},
     "output_type": "execute_result"
    }
   ],
   "source": [
    "# return the date time on our datab frame\n",
    "result1=result1.rename(columns={0:\"time\"})\n",
    "result1.loc[:3]"
   ]
  },
  {
   "cell_type": "code",
   "execution_count": 10,
   "metadata": {
    "collapsed": false
   },
   "outputs": [
    {
     "data": {
      "text/html": [
       "<div>\n",
       "<style scoped>\n",
       "    .dataframe tbody tr th:only-of-type {\n",
       "        vertical-align: middle;\n",
       "    }\n",
       "\n",
       "    .dataframe tbody tr th {\n",
       "        vertical-align: top;\n",
       "    }\n",
       "\n",
       "    .dataframe thead th {\n",
       "        text-align: right;\n",
       "    }\n",
       "</style>\n",
       "<table border=\"1\" class=\"dataframe\">\n",
       "  <thead>\n",
       "    <tr style=\"text-align: right;\">\n",
       "      <th></th>\n",
       "      <th>time</th>\n",
       "      <th>WS_62_mean</th>\n",
       "      <th>WS_60_mean</th>\n",
       "      <th>WS_40_mean</th>\n",
       "      <th>WS_20_mean</th>\n",
       "      <th>WS_10_mean</th>\n",
       "      <th>WD_60_mean</th>\n",
       "      <th>WD_20_mean</th>\n",
       "      <th>Tair_mean</th>\n",
       "      <th>Tgrad_mean</th>\n",
       "      <th>Pbaro_mean</th>\n",
       "      <th>RH_mean</th>\n",
       "    </tr>\n",
       "  </thead>\n",
       "  <tbody>\n",
       "    <tr>\n",
       "      <th>0</th>\n",
       "      <td>0</td>\n",
       "      <td>4.1629</td>\n",
       "      <td>4.0932</td>\n",
       "      <td>3.2474</td>\n",
       "      <td>2.7962</td>\n",
       "      <td>2.1617</td>\n",
       "      <td>5.9467</td>\n",
       "      <td>37.2267</td>\n",
       "      <td>17.58</td>\n",
       "      <td>1.251</td>\n",
       "      <td>1009.28</td>\n",
       "      <td>95.5</td>\n",
       "    </tr>\n",
       "    <tr>\n",
       "      <th>1</th>\n",
       "      <td>10</td>\n",
       "      <td>4.0387</td>\n",
       "      <td>3.9846</td>\n",
       "      <td>3.3663</td>\n",
       "      <td>2.9733</td>\n",
       "      <td>2.2545</td>\n",
       "      <td>7.0867</td>\n",
       "      <td>37.4267</td>\n",
       "      <td>17.49</td>\n",
       "      <td>1.179</td>\n",
       "      <td>1009.04</td>\n",
       "      <td>95.6</td>\n",
       "    </tr>\n",
       "    <tr>\n",
       "      <th>2</th>\n",
       "      <td>20</td>\n",
       "      <td>3.7964</td>\n",
       "      <td>3.7462</td>\n",
       "      <td>3.6693</td>\n",
       "      <td>2.8509</td>\n",
       "      <td>2.1505</td>\n",
       "      <td>8.5867</td>\n",
       "      <td>37.4867</td>\n",
       "      <td>17.32</td>\n",
       "      <td>1.077</td>\n",
       "      <td>1009.04</td>\n",
       "      <td>95.7</td>\n",
       "    </tr>\n",
       "    <tr>\n",
       "      <th>3</th>\n",
       "      <td>30</td>\n",
       "      <td>4.0927</td>\n",
       "      <td>4.0783</td>\n",
       "      <td>4.0395</td>\n",
       "      <td>2.8838</td>\n",
       "      <td>2.1941</td>\n",
       "      <td>5.8367</td>\n",
       "      <td>29.9067</td>\n",
       "      <td>17.33</td>\n",
       "      <td>1.168</td>\n",
       "      <td>1008.80</td>\n",
       "      <td>96.3</td>\n",
       "    </tr>\n",
       "    <tr>\n",
       "      <th>4</th>\n",
       "      <td>40</td>\n",
       "      <td>4.1275</td>\n",
       "      <td>4.0969</td>\n",
       "      <td>4.0756</td>\n",
       "      <td>3.0342</td>\n",
       "      <td>2.3205</td>\n",
       "      <td>4.4467</td>\n",
       "      <td>27.9667</td>\n",
       "      <td>17.33</td>\n",
       "      <td>1.183</td>\n",
       "      <td>1008.80</td>\n",
       "      <td>96.2</td>\n",
       "    </tr>\n",
       "    <tr>\n",
       "      <th>5</th>\n",
       "      <td>50</td>\n",
       "      <td>4.2952</td>\n",
       "      <td>4.2583</td>\n",
       "      <td>3.8889</td>\n",
       "      <td>3.1915</td>\n",
       "      <td>2.3971</td>\n",
       "      <td>4.9567</td>\n",
       "      <td>20.2467</td>\n",
       "      <td>17.28</td>\n",
       "      <td>1.170</td>\n",
       "      <td>1008.80</td>\n",
       "      <td>96.2</td>\n",
       "    </tr>\n",
       "    <tr>\n",
       "      <th>6</th>\n",
       "      <td>60</td>\n",
       "      <td>3.8225</td>\n",
       "      <td>3.7927</td>\n",
       "      <td>3.5946</td>\n",
       "      <td>2.6955</td>\n",
       "      <td>1.9207</td>\n",
       "      <td>3.8867</td>\n",
       "      <td>18.2367</td>\n",
       "      <td>17.13</td>\n",
       "      <td>1.087</td>\n",
       "      <td>1008.80</td>\n",
       "      <td>96.4</td>\n",
       "    </tr>\n",
       "  </tbody>\n",
       "</table>\n",
       "</div>"
      ],
      "text/plain": [
       "   time   WS_62_mean   WS_60_mean   WS_40_mean   WS_20_mean   WS_10_mean  \\\n",
       "0     0       4.1629       4.0932       3.2474       2.7962       2.1617   \n",
       "1    10       4.0387       3.9846       3.3663       2.9733       2.2545   \n",
       "2    20       3.7964       3.7462       3.6693       2.8509       2.1505   \n",
       "3    30       4.0927       4.0783       4.0395       2.8838       2.1941   \n",
       "4    40       4.1275       4.0969       4.0756       3.0342       2.3205   \n",
       "5    50       4.2952       4.2583       3.8889       3.1915       2.3971   \n",
       "6    60       3.8225       3.7927       3.5946       2.6955       1.9207   \n",
       "\n",
       "    WD_60_mean  WD_20_mean   Tair_mean   Tgrad_mean   Pbaro_mean   RH_mean  \n",
       "0       5.9467     37.2267       17.58        1.251      1009.28      95.5  \n",
       "1       7.0867     37.4267       17.49        1.179      1009.04      95.6  \n",
       "2       8.5867     37.4867       17.32        1.077      1009.04      95.7  \n",
       "3       5.8367     29.9067       17.33        1.168      1008.80      96.3  \n",
       "4       4.4467     27.9667       17.33        1.183      1008.80      96.2  \n",
       "5       4.9567     20.2467       17.28        1.170      1008.80      96.2  \n",
       "6       3.8867     18.2367       17.13        1.087      1008.80      96.4  "
      ]
     },
     "execution_count": 10,
     "metadata": {},
     "output_type": "execute_result"
    }
   ],
   "source": [
    "# Station13\n",
    "result1=result1.rename(columns={0:\"time\"})\n",
    "result1.loc[:6]\n"
   ]
  },
  {
   "cell_type": "code",
   "execution_count": 11,
   "metadata": {
    "collapsed": true
   },
   "outputs": [],
   "source": [
    "#station14"
   ]
  },
  {
   "cell_type": "code",
   "execution_count": 14,
   "metadata": {
    "collapsed": false
   },
   "outputs": [
    {
     "data": {
      "text/html": [
       "<div>\n",
       "<style scoped>\n",
       "    .dataframe tbody tr th:only-of-type {\n",
       "        vertical-align: middle;\n",
       "    }\n",
       "\n",
       "    .dataframe tbody tr th {\n",
       "        vertical-align: top;\n",
       "    }\n",
       "\n",
       "    .dataframe thead th {\n",
       "        text-align: right;\n",
       "    }\n",
       "</style>\n",
       "<table border=\"1\" class=\"dataframe\">\n",
       "  <thead>\n",
       "    <tr style=\"text-align: right;\">\n",
       "      <th></th>\n",
       "      <th>time</th>\n",
       "      <th>WS_62_mean</th>\n",
       "      <th>WS_60_mean</th>\n",
       "      <th>WS_40_mean</th>\n",
       "      <th>WS_20_mean</th>\n",
       "      <th>WS_10_mean</th>\n",
       "      <th>WD_60_mean</th>\n",
       "      <th>WD_20_mean</th>\n",
       "      <th>Tair_mean</th>\n",
       "      <th>Tgrad_mean</th>\n",
       "      <th>Pbaro_mean</th>\n",
       "      <th>RH_mean</th>\n",
       "    </tr>\n",
       "  </thead>\n",
       "  <tbody>\n",
       "    <tr>\n",
       "      <th>0</th>\n",
       "      <td>0</td>\n",
       "      <td>8.1984</td>\n",
       "      <td>8.2188</td>\n",
       "      <td>7.3425</td>\n",
       "      <td>6.5802</td>\n",
       "      <td>5.6578</td>\n",
       "      <td>245.0333</td>\n",
       "      <td>247.4333</td>\n",
       "      <td>10.68</td>\n",
       "      <td>0.853</td>\n",
       "      <td>800.72</td>\n",
       "      <td>37.47</td>\n",
       "    </tr>\n",
       "    <tr>\n",
       "      <th>1</th>\n",
       "      <td>10</td>\n",
       "      <td>8.1053</td>\n",
       "      <td>8.1196</td>\n",
       "      <td>7.2618</td>\n",
       "      <td>6.4809</td>\n",
       "      <td>5.7014</td>\n",
       "      <td>244.9333</td>\n",
       "      <td>249.0333</td>\n",
       "      <td>10.58</td>\n",
       "      <td>0.716</td>\n",
       "      <td>800.72</td>\n",
       "      <td>37.90</td>\n",
       "    </tr>\n",
       "    <tr>\n",
       "      <th>2</th>\n",
       "      <td>20</td>\n",
       "      <td>8.7696</td>\n",
       "      <td>8.7834</td>\n",
       "      <td>7.6775</td>\n",
       "      <td>6.7479</td>\n",
       "      <td>5.7450</td>\n",
       "      <td>243.7333</td>\n",
       "      <td>246.9333</td>\n",
       "      <td>10.53</td>\n",
       "      <td>0.863</td>\n",
       "      <td>800.72</td>\n",
       "      <td>38.57</td>\n",
       "    </tr>\n",
       "    <tr>\n",
       "      <th>3</th>\n",
       "      <td>30</td>\n",
       "      <td>8.9869</td>\n",
       "      <td>9.0129</td>\n",
       "      <td>7.9133</td>\n",
       "      <td>7.0398</td>\n",
       "      <td>6.1683</td>\n",
       "      <td>242.3333</td>\n",
       "      <td>244.5333</td>\n",
       "      <td>10.66</td>\n",
       "      <td>0.927</td>\n",
       "      <td>800.72</td>\n",
       "      <td>38.21</td>\n",
       "    </tr>\n",
       "  </tbody>\n",
       "</table>\n",
       "</div>"
      ],
      "text/plain": [
       "   time   WS_62_mean   WS_60_mean   WS_40_mean   WS_20_mean   WS_10_mean  \\\n",
       "0     0       8.1984       8.2188       7.3425       6.5802       5.6578   \n",
       "1    10       8.1053       8.1196       7.2618       6.4809       5.7014   \n",
       "2    20       8.7696       8.7834       7.6775       6.7479       5.7450   \n",
       "3    30       8.9869       9.0129       7.9133       7.0398       6.1683   \n",
       "\n",
       "    WD_60_mean   WD_20_mean   Tair_mean   Tgrad_mean   Pbaro_mean   RH_mean  \n",
       "0     245.0333     247.4333       10.68        0.853       800.72     37.47  \n",
       "1     244.9333     249.0333       10.58        0.716       800.72     37.90  \n",
       "2     243.7333     246.9333       10.53        0.863       800.72     38.57  \n",
       "3     242.3333     244.5333       10.66        0.927       800.72     38.21  "
      ]
     },
     "execution_count": 14,
     "metadata": {},
     "output_type": "execute_result"
    }
   ],
   "source": [
    "result2=result2.rename(columns={0:\"time\"})\n",
    "result2.loc[:3]"
   ]
  },
  {
   "cell_type": "code",
   "execution_count": 15,
   "metadata": {
    "colab": {},
    "colab_type": "code",
    "collapsed": true,
    "id": "sAjL0OIBKVw4"
   },
   "outputs": [],
   "source": [
    "## Hourly data extraction\n",
    "# converting10 min time interval data in to hours\n",
    "num_hour1 = [i for i in range(5,len(result1),6)]\n",
    "num_hour2 = [i for i in range(5,len(result2),6)]"
   ]
  },
  {
   "cell_type": "code",
   "execution_count": 16,
   "metadata": {
    "colab": {},
    "colab_type": "code",
    "collapsed": false,
    "id": "BEPIOzkFzKl-"
   },
   "outputs": [],
   "source": [
    "# converting time to 1 hour\n",
    "result_hour1 = result1.iloc[num_hour1]\n",
    "result_hour2 = result2.iloc[num_hour1]"
   ]
  },
  {
   "cell_type": "code",
   "execution_count": 17,
   "metadata": {
    "collapsed": false
   },
   "outputs": [],
   "source": [
    "#dropping the index\n",
    "result_hour1 =result_hour1.reset_index(drop=True)\n",
    "result_hour2 =result_hour2.reset_index(drop=True)"
   ]
  },
  {
   "cell_type": "code",
   "execution_count": 18,
   "metadata": {
    "collapsed": false
   },
   "outputs": [
    {
     "data": {
      "text/html": [
       "<div>\n",
       "<style scoped>\n",
       "    .dataframe tbody tr th:only-of-type {\n",
       "        vertical-align: middle;\n",
       "    }\n",
       "\n",
       "    .dataframe tbody tr th {\n",
       "        vertical-align: top;\n",
       "    }\n",
       "\n",
       "    .dataframe thead th {\n",
       "        text-align: right;\n",
       "    }\n",
       "</style>\n",
       "<table border=\"1\" class=\"dataframe\">\n",
       "  <thead>\n",
       "    <tr style=\"text-align: right;\">\n",
       "      <th></th>\n",
       "      <th>time</th>\n",
       "      <th>WS_62_mean</th>\n",
       "      <th>WS_60_mean</th>\n",
       "      <th>WS_40_mean</th>\n",
       "      <th>WS_20_mean</th>\n",
       "      <th>WS_10_mean</th>\n",
       "      <th>WD_60_mean</th>\n",
       "      <th>WD_20_mean</th>\n",
       "      <th>Tair_mean</th>\n",
       "      <th>Tgrad_mean</th>\n",
       "      <th>Pbaro_mean</th>\n",
       "      <th>RH_mean</th>\n",
       "    </tr>\n",
       "  </thead>\n",
       "  <tbody>\n",
       "    <tr>\n",
       "      <th>0</th>\n",
       "      <td>50</td>\n",
       "      <td>4.2952</td>\n",
       "      <td>4.2583</td>\n",
       "      <td>3.8889</td>\n",
       "      <td>3.1915</td>\n",
       "      <td>2.3971</td>\n",
       "      <td>4.9567</td>\n",
       "      <td>20.2467</td>\n",
       "      <td>17.28</td>\n",
       "      <td>1.170</td>\n",
       "      <td>1008.80</td>\n",
       "      <td>96.2</td>\n",
       "    </tr>\n",
       "    <tr>\n",
       "      <th>1</th>\n",
       "      <td>110</td>\n",
       "      <td>3.7032</td>\n",
       "      <td>3.6493</td>\n",
       "      <td>2.9830</td>\n",
       "      <td>2.4108</td>\n",
       "      <td>1.7799</td>\n",
       "      <td>16.7367</td>\n",
       "      <td>13.0367</td>\n",
       "      <td>16.25</td>\n",
       "      <td>0.797</td>\n",
       "      <td>1008.56</td>\n",
       "      <td>98.8</td>\n",
       "    </tr>\n",
       "    <tr>\n",
       "      <th>2</th>\n",
       "      <td>170</td>\n",
       "      <td>4.9374</td>\n",
       "      <td>4.8698</td>\n",
       "      <td>3.9754</td>\n",
       "      <td>2.1392</td>\n",
       "      <td>1.2878</td>\n",
       "      <td>1.3667</td>\n",
       "      <td>337.955</td>\n",
       "      <td>16.32</td>\n",
       "      <td>2.159</td>\n",
       "      <td>1008.32</td>\n",
       "      <td>99.4</td>\n",
       "    </tr>\n",
       "  </tbody>\n",
       "</table>\n",
       "</div>"
      ],
      "text/plain": [
       "   time   WS_62_mean   WS_60_mean   WS_40_mean   WS_20_mean   WS_10_mean  \\\n",
       "0    50       4.2952       4.2583       3.8889       3.1915       2.3971   \n",
       "1   110       3.7032       3.6493       2.9830       2.4108       1.7799   \n",
       "2   170       4.9374       4.8698       3.9754       2.1392       1.2878   \n",
       "\n",
       "    WD_60_mean  WD_20_mean   Tair_mean   Tgrad_mean   Pbaro_mean   RH_mean  \n",
       "0       4.9567     20.2467       17.28        1.170      1008.80      96.2  \n",
       "1      16.7367     13.0367       16.25        0.797      1008.56      98.8  \n",
       "2       1.3667     337.955       16.32        2.159      1008.32      99.4  "
      ]
     },
     "execution_count": 18,
     "metadata": {},
     "output_type": "execute_result"
    }
   ],
   "source": [
    "#Station13\n",
    "Stat13=result_hour1\n",
    "Stat13.head(3)"
   ]
  },
  {
   "cell_type": "code",
   "execution_count": 19,
   "metadata": {
    "colab": {},
    "colab_type": "code",
    "collapsed": false,
    "id": "B0DRHy_WfVk_"
   },
   "outputs": [
    {
     "data": {
      "text/html": [
       "<div>\n",
       "<style scoped>\n",
       "    .dataframe tbody tr th:only-of-type {\n",
       "        vertical-align: middle;\n",
       "    }\n",
       "\n",
       "    .dataframe tbody tr th {\n",
       "        vertical-align: top;\n",
       "    }\n",
       "\n",
       "    .dataframe thead th {\n",
       "        text-align: right;\n",
       "    }\n",
       "</style>\n",
       "<table border=\"1\" class=\"dataframe\">\n",
       "  <thead>\n",
       "    <tr style=\"text-align: right;\">\n",
       "      <th></th>\n",
       "      <th>time</th>\n",
       "      <th>WS_62_mean</th>\n",
       "      <th>WS_60_mean</th>\n",
       "      <th>WS_40_mean</th>\n",
       "      <th>WS_20_mean</th>\n",
       "      <th>WS_10_mean</th>\n",
       "      <th>WD_60_mean</th>\n",
       "      <th>WD_20_mean</th>\n",
       "      <th>Tair_mean</th>\n",
       "      <th>Tgrad_mean</th>\n",
       "      <th>Pbaro_mean</th>\n",
       "      <th>RH_mean</th>\n",
       "    </tr>\n",
       "  </thead>\n",
       "  <tbody>\n",
       "    <tr>\n",
       "      <th>0</th>\n",
       "      <td>50</td>\n",
       "      <td>8.2978</td>\n",
       "      <td>8.3119</td>\n",
       "      <td>7.5224</td>\n",
       "      <td>6.7541</td>\n",
       "      <td>5.7761</td>\n",
       "      <td>244.1333</td>\n",
       "      <td>246.1333</td>\n",
       "      <td>10.67</td>\n",
       "      <td>0.860</td>\n",
       "      <td>800.72</td>\n",
       "      <td>38.17</td>\n",
       "    </tr>\n",
       "    <tr>\n",
       "      <th>1</th>\n",
       "      <td>110</td>\n",
       "      <td>7.9687</td>\n",
       "      <td>7.9769</td>\n",
       "      <td>6.9951</td>\n",
       "      <td>5.9841</td>\n",
       "      <td>5.1517</td>\n",
       "      <td>244.6333</td>\n",
       "      <td>247.9333</td>\n",
       "      <td>10.54</td>\n",
       "      <td>0.887</td>\n",
       "      <td>800.48</td>\n",
       "      <td>39.08</td>\n",
       "    </tr>\n",
       "    <tr>\n",
       "      <th>2</th>\n",
       "      <td>170</td>\n",
       "      <td>7.8694</td>\n",
       "      <td>7.8839</td>\n",
       "      <td>6.9640</td>\n",
       "      <td>6.1207</td>\n",
       "      <td>5.2469</td>\n",
       "      <td>244.6333</td>\n",
       "      <td>244.8333</td>\n",
       "      <td>10.13</td>\n",
       "      <td>0.965</td>\n",
       "      <td>800.48</td>\n",
       "      <td>38.55</td>\n",
       "    </tr>\n",
       "  </tbody>\n",
       "</table>\n",
       "</div>"
      ],
      "text/plain": [
       "   time   WS_62_mean   WS_60_mean   WS_40_mean   WS_20_mean   WS_10_mean  \\\n",
       "0    50       8.2978       8.3119       7.5224       6.7541       5.7761   \n",
       "1   110       7.9687       7.9769       6.9951       5.9841       5.1517   \n",
       "2   170       7.8694       7.8839       6.9640       6.1207       5.2469   \n",
       "\n",
       "    WD_60_mean   WD_20_mean   Tair_mean   Tgrad_mean   Pbaro_mean   RH_mean  \n",
       "0     244.1333     246.1333       10.67        0.860       800.72     38.17  \n",
       "1     244.6333     247.9333       10.54        0.887       800.48     39.08  \n",
       "2     244.6333     244.8333       10.13        0.965       800.48     38.55  "
      ]
     },
     "execution_count": 19,
     "metadata": {},
     "output_type": "execute_result"
    }
   ],
   "source": [
    "#Station14\n",
    "Stat14=result_hour2\n",
    "Stat14.head(3)"
   ]
  },
  {
   "cell_type": "code",
   "execution_count": 20,
   "metadata": {
    "collapsed": true
   },
   "outputs": [],
   "source": [
    "#checking and removing if there is null"
   ]
  },
  {
   "cell_type": "code",
   "execution_count": 22,
   "metadata": {
    "collapsed": false
   },
   "outputs": [
    {
     "data": {
      "text/plain": [
       "0"
      ]
     },
     "execution_count": 22,
     "metadata": {},
     "output_type": "execute_result"
    }
   ],
   "source": [
    "Stat14.dropna(inplace=True)\n",
    "Stat14.isnull().sum().sum()"
   ]
  },
  {
   "cell_type": "code",
   "execution_count": 23,
   "metadata": {
    "collapsed": false
   },
   "outputs": [
    {
     "data": {
      "text/plain": [
       "0"
      ]
     },
     "execution_count": 23,
     "metadata": {},
     "output_type": "execute_result"
    }
   ],
   "source": [
    "#checking and removing if there is null\n",
    "Stat13.dropna(inplace=True)\n",
    "Stat13.isnull().sum().sum()"
   ]
  },
  {
   "cell_type": "code",
   "execution_count": 24,
   "metadata": {
    "collapsed": false
   },
   "outputs": [],
   "source": [
    "#checking length and resizing for both stations"
   ]
  },
  {
   "cell_type": "code",
   "execution_count": 25,
   "metadata": {
    "collapsed": false
   },
   "outputs": [
    {
     "data": {
      "text/plain": [
       "(17314, 12)"
      ]
     },
     "execution_count": 25,
     "metadata": {},
     "output_type": "execute_result"
    }
   ],
   "source": [
    "Stat13.shape\n",
    "Stat13=Stat13[:17314]\n",
    "Stat13.shape"
   ]
  },
  {
   "cell_type": "code",
   "execution_count": 26,
   "metadata": {
    "collapsed": false
   },
   "outputs": [
    {
     "data": {
      "text/plain": [
       "(17314, 12)"
      ]
     },
     "execution_count": 26,
     "metadata": {},
     "output_type": "execute_result"
    }
   ],
   "source": [
    "Stat14.shape\n",
    "Stat14=Stat14\n",
    "Stat14.shape"
   ]
  },
  {
   "cell_type": "markdown",
   "metadata": {},
   "source": [
    "#\n",
    "\n",
    "\n",
    "# For one  stations\n",
    "\n",
    "\n",
    "#"
   ]
  },
  {
   "cell_type": "code",
   "execution_count": 27,
   "metadata": {
    "collapsed": true
   },
   "outputs": [],
   "source": [
    "from sklearn import preprocessing"
   ]
  },
  {
   "cell_type": "code",
   "execution_count": 28,
   "metadata": {
    "colab": {
     "base_uri": "https://localhost:8080/",
     "height": 35
    },
    "colab_type": "code",
    "collapsed": false,
    "executionInfo": {
     "elapsed": 3137,
     "status": "ok",
     "timestamp": 1536691126648,
     "user": {
      "displayName": "Phillemon Ntona Senoamadi",
      "photoUrl": "https://lh3.googleusercontent.com/a/default-user=s128",
      "userId": "104483240676729797111"
     },
     "user_tz": -120
    },
    "id": "hKVoAiTCyOZv",
    "outputId": "747f0342-490a-4c65-9182-783f032e1fc3"
   },
   "outputs": [],
   "source": [
    "#WS_60_mean feature can be changed frequently, depeding on what reature to predict\n",
    "Station13or14 =pd.concat( [Stat13[' WS_40_mean']], axis=1)"
   ]
  },
  {
   "cell_type": "code",
   "execution_count": 30,
   "metadata": {
    "collapsed": false
   },
   "outputs": [
    {
     "data": {
      "text/html": [
       "<div>\n",
       "<style scoped>\n",
       "    .dataframe tbody tr th:only-of-type {\n",
       "        vertical-align: middle;\n",
       "    }\n",
       "\n",
       "    .dataframe tbody tr th {\n",
       "        vertical-align: top;\n",
       "    }\n",
       "\n",
       "    .dataframe thead th {\n",
       "        text-align: right;\n",
       "    }\n",
       "</style>\n",
       "<table border=\"1\" class=\"dataframe\">\n",
       "  <thead>\n",
       "    <tr style=\"text-align: right;\">\n",
       "      <th></th>\n",
       "      <th>WS_40_mean</th>\n",
       "    </tr>\n",
       "  </thead>\n",
       "  <tbody>\n",
       "    <tr>\n",
       "      <th>0</th>\n",
       "      <td>3.8889</td>\n",
       "    </tr>\n",
       "    <tr>\n",
       "      <th>1</th>\n",
       "      <td>2.9830</td>\n",
       "    </tr>\n",
       "    <tr>\n",
       "      <th>2</th>\n",
       "      <td>3.9754</td>\n",
       "    </tr>\n",
       "    <tr>\n",
       "      <th>3</th>\n",
       "      <td>2.4062</td>\n",
       "    </tr>\n",
       "    <tr>\n",
       "      <th>4</th>\n",
       "      <td>2.6986</td>\n",
       "    </tr>\n",
       "  </tbody>\n",
       "</table>\n",
       "</div>"
      ],
      "text/plain": [
       "    WS_40_mean\n",
       "0       3.8889\n",
       "1       2.9830\n",
       "2       3.9754\n",
       "3       2.4062\n",
       "4       2.6986"
      ]
     },
     "execution_count": 30,
     "metadata": {},
     "output_type": "execute_result"
    }
   ],
   "source": [
    "#printing the Wind Speed feature data frame to be used\n",
    "Station13or14.head()"
   ]
  },
  {
   "cell_type": "code",
   "execution_count": 31,
   "metadata": {
    "colab": {},
    "colab_type": "code",
    "collapsed": false,
    "id": "QMgt468joUgA"
   },
   "outputs": [],
   "source": [
    "\n",
    "# defining a function that converts my data in to a supervised way\n",
    "def series_to_supervised(data, n_in=1, n_out=1, dropnan=True):\n",
    "\tn_vars = 1 if type(data) is list else data.shape[1]\n",
    "\tdff = pd.DataFrame(data)\n",
    "\tcols, names = list(), list()\n",
    "\t# input sequence (t-n, ... t-1)\n",
    "\tfor i in range(n_in, 0, -1):\n",
    "\t\tcols.append(dff.shift(i))\n",
    "\t\tnames += [('Feature%d(t-%d)' % (j+1, i)) for j in range(n_vars)]\n",
    "\t# forecast sequence (t, t+1, ... t+n)\n",
    "\tfor i in range(0, n_out):\n",
    "\t\tcols.append(dff.shift(-i))\n",
    "\t\tif i == 0:\n",
    "\t\t\tnames += [('Output%d(t)' % (j+1)) for j in range(n_vars)]\n",
    "\t\telse:\n",
    "\t\t\tnames += [('Output%d(t+%d)' % (j+1, i)) for j in range(n_vars)]\n",
    "\t# put it all together\n",
    "\tagg = pd.concat(cols,axis=1)\n",
    "\tagg.columns = names\n",
    "\t# drop rows with NaN values\n",
    "\tif dropnan:\n",
    "\t\tagg.dropna(inplace=True)\n",
    "\treturn agg"
   ]
  },
  {
   "cell_type": "code",
   "execution_count": 48,
   "metadata": {
    "colab": {},
    "colab_type": "code",
    "collapsed": false,
    "id": "7nXokSpCqejS"
   },
   "outputs": [
    {
     "name": "stdout",
     "output_type": "stream",
     "text": [
      "   Feature1(t-1)  Output1(t)\n",
      "1       0.204561    0.154235\n",
      "2       0.154235    0.209366\n",
      "3       0.209366    0.122191\n",
      "4       0.122191    0.138435\n",
      "5       0.138435    0.182956\n"
     ]
    }
   ],
   "source": [
    "#scale all features in range of [0,1].\n",
    "values = Station13or14.values \n",
    "# normalize features\n",
    "scaler = MinMaxScaler(feature_range=(0, 1))\n",
    "scaled = scaler.fit_transform(values)\n",
    "#setting for number of look backs\n",
    "look_back_hours=1\n",
    "# frame as supervised learning\n",
    "reframed = series_to_supervised(scaled, look_back_hours, 1)\n",
    "# drop columns we don't want to predict\n",
    "reframed.drop(reframed.columns[[]], axis=1, inplace=True)\n",
    "print(reframed.head())\n"
   ]
  },
  {
   "cell_type": "code",
   "execution_count": 49,
   "metadata": {
    "colab": {
     "base_uri": "https://localhost:8080/",
     "height": 35
    },
    "colab_type": "code",
    "collapsed": false,
    "executionInfo": {
     "elapsed": 969,
     "status": "ok",
     "timestamp": 1536697421786,
     "user": {
      "displayName": "Phillemon Ntona Senoamadi",
      "photoUrl": "https://lh3.googleusercontent.com/a/default-user=s128",
      "userId": "104483240676729797111"
     },
     "user_tz": -120
    },
    "id": "GtFNh6XzVok_",
    "outputId": "da54f8c2-a4a6-4f77-f442-5cb06cefe35b"
   },
   "outputs": [
    {
     "name": "stdout",
     "output_type": "stream",
     "text": [
      "(13157, 1, 1) (13157,) (2424, 1, 1) (2424,) (1732, 1, 1) (1732,)\n"
     ]
    }
   ],
   "source": [
    "# split into train and test sets\n",
    "values = reframed.values\n",
    "n_train_time = int(len(values)*0.76)\n",
    "train = values[:n_train_time, :]\n",
    "test = values[int(len(train)):int(len(values)*0.90), :]\n",
    "valid =values[int(len(values)*0.90):,:]\n",
    "\n",
    "n_features = Station13or14.shape[-1]\n",
    "n_obs = look_back_hours * n_features\n",
    "train_X, train_y = train[:, 0:n_obs], train[:, -n_features]\n",
    "test_X, test_y = test[:, 0:n_obs], test[:, -n_features]\n",
    "valid_X, valid_y = valid[:, 0:n_obs], valid[:, -n_features]\n",
    "# reshape input to be 3D [samples, timesteps, features]\n",
    "train_X = train_X.reshape((train_X.shape[0], look_back_hours, n_features))\n",
    "test_X = test_X.reshape((test_X.shape[0], look_back_hours, n_features))\n",
    "valid_X = valid_X.reshape((valid_X.shape[0], look_back_hours, n_features))\n",
    "print(train_X.shape, train_y.shape, test_X.shape, test_y.shape, valid_X.shape, valid_y.shape)"
   ]
  },
  {
   "cell_type": "code",
   "execution_count": 50,
   "metadata": {
    "colab": {
     "base_uri": "https://localhost:8080/",
     "height": 287
    },
    "colab_type": "code",
    "collapsed": false,
    "executionInfo": {
     "elapsed": 2371,
     "status": "ok",
     "timestamp": 1536697660510,
     "user": {
      "displayName": "Phillemon Ntona Senoamadi",
      "photoUrl": "https://lh3.googleusercontent.com/a/default-user=s128",
      "userId": "104483240676729797111"
     },
     "user_tz": -120
    },
    "id": "b1shxnLSgQJ-",
    "outputId": "dbda0a08-4229-44b6-f98a-bba598693e61",
    "scrolled": false
   },
   "outputs": [
    {
     "name": "stdout",
     "output_type": "stream",
     "text": [
      "_________________________________________________________________\n",
      "Layer (type)                 Output Shape              Param #   \n",
      "=================================================================\n",
      "lstm_3 (LSTM)                (None, 1, 64)             16896     \n",
      "_________________________________________________________________\n",
      "dropout_3 (Dropout)          (None, 1, 64)             0         \n",
      "_________________________________________________________________\n",
      "lstm_4 (LSTM)                (None, 1, 32)             12416     \n",
      "_________________________________________________________________\n",
      "dropout_4 (Dropout)          (None, 1, 32)             0         \n",
      "_________________________________________________________________\n",
      "lstm_5 (LSTM)                (None, 32)                8320      \n",
      "_________________________________________________________________\n",
      "dense_3 (Dense)              (None, 1)                 33        \n",
      "=================================================================\n",
      "Total params: 37,665\n",
      "Trainable params: 37,665\n",
      "Non-trainable params: 0\n",
      "_________________________________________________________________\n"
     ]
    }
   ],
   "source": [
    "#For two stations\n",
    "model = Sequential()\n",
    "model.add(LSTM(64, return_sequences= True, activation='sigmoid', input_shape=(train_X.shape[1], train_X.shape[2])))\n",
    "model.add(Dropout(0.1))\n",
    "model.add(LSTM(32, activation='sigmoid',return_sequences=True ))\n",
    "model.add(Dropout(0.1))\n",
    "model.add(LSTM(32, activation='sigmoid'))\n",
    "model.add(Dense(1, activation='sigmoid'))\n",
    "sgd = optimizers.SGD(lr=0.2, decay=1e-5, momentum=0.9, nesterov=True)\n",
    "model.compile(loss='mse', optimizer='adam', metrics=['accuracy'])\n",
    "model.summary()"
   ]
  },
  {
   "cell_type": "code",
   "execution_count": 52,
   "metadata": {
    "colab": {
     "base_uri": "https://localhost:8080/",
     "height": 395
    },
    "colab_type": "code",
    "collapsed": false,
    "executionInfo": {
     "elapsed": 88737,
     "status": "ok",
     "timestamp": 1536697750657,
     "user": {
      "displayName": "Phillemon Ntona Senoamadi",
      "photoUrl": "https://lh3.googleusercontent.com/a/default-user=s128",
      "userId": "104483240676729797111"
     },
     "user_tz": -120
    },
    "id": "OMHrcDNROAyc",
    "outputId": "e4275b21-5aa3-4eee-b3b6-e10cc3478a19"
   },
   "outputs": [],
   "source": [
    "# model fit\n",
    "history = model.fit(train_X, train_y, epochs=100, batch_size=400, validation_data=(valid_X, valid_y), verbose=0, shuffle=False)"
   ]
  },
  {
   "cell_type": "code",
   "execution_count": 53,
   "metadata": {
    "colab": {
     "base_uri": "https://localhost:8080/",
     "height": 376
    },
    "colab_type": "code",
    "collapsed": false,
    "executionInfo": {
     "elapsed": 1459,
     "status": "ok",
     "timestamp": 1536697753795,
     "user": {
      "displayName": "Phillemon Ntona Senoamadi",
      "photoUrl": "https://lh3.googleusercontent.com/a/default-user=s128",
      "userId": "104483240676729797111"
     },
     "user_tz": -120
    },
    "id": "ZlxyEZ-Qm8VO",
    "outputId": "1a571e7c-2c1c-4698-fd73-e450e36912ef"
   },
   "outputs": [
    {
     "data": {
      "image/png": "[encoded data removed]",
      "text/plain": [
       "<Figure size 432x288 with 1 Axes>"
      ]
     },
     "metadata": {},
     "output_type": "display_data"
    }
   ],
   "source": [
    "# summarize history for loss\n",
    "pyplot.figure(figsize = (6,4))\n",
    "pyplot.plot(history.history['loss'])\n",
    "pyplot.plot(history.history['val_loss'])\n",
    "pyplot.title('24 hour ahead forecast at height 60 : station 13')\n",
    "pyplot.ylabel('loss')\n",
    "pyplot.xlabel('epoch(s)')\n",
    "pyplot.legend(['train', 'valid'], loc='upper right')\n",
    "pyplot.show()"
   ]
  },
  {
   "cell_type": "code",
   "execution_count": 54,
   "metadata": {
    "colab": {
     "base_uri": "https://localhost:8080/",
     "height": 35
    },
    "colab_type": "code",
    "collapsed": false,
    "executionInfo": {
     "elapsed": 5561,
     "status": "ok",
     "timestamp": 1536697763189,
     "user": {
      "displayName": "Phillemon Ntona Senoamadi",
      "photoUrl": "https://lh3.googleusercontent.com/a/default-user=s128",
      "userId": "104483240676729797111"
     },
     "user_tz": -120
    },
    "id": "ZVGshgTDnCHm",
    "outputId": "c391ece7-fab9-492c-9d79-095291684dbc"
   },
   "outputs": [
    {
     "name": "stdout",
     "output_type": "stream",
     "text": [
      "Test RMSE: 1.452\n"
     ]
    }
   ],
   "source": [
    "# make a prediction\n",
    "predicted = model.predict(test_X)\n",
    "test_X = test_X.reshape((test_X.shape[0], look_back_hours*n_features))\n",
    "# invert scaling for forecast\n",
    "inv_predicted = concatenate((predicted, test_X[:, -n_features+1:]), axis=1)\n",
    "inv_predicted = scaler.inverse_transform(inv_predicted)\n",
    "inv_predicted = inv_predicted[:,0]\n",
    "# invert scaling for actual\n",
    "test_y = test_y.reshape((len(test_y), 1))\n",
    "inv_y = concatenate((test_y, test_X[:, -n_features+1:]), axis=1)\n",
    "inv_y = scaler.inverse_transform(inv_y)\n",
    "inv_y = inv_y[:,0]\n",
    "# calculate RMSE\n",
    "rmse = sqrt(mean_squared_error(inv_y, inv_predicted))\n",
    "print('Test RMSE: %.3f' % rmse)"
   ]
  },
  {
   "cell_type": "markdown",
   "metadata": {},
   "source": [
    "#\n",
    "\n",
    "\n",
    "# Multiple added  feature from another station\n",
    "\n",
    "\n",
    "\n",
    "#"
   ]
  },
  {
   "cell_type": "code",
   "execution_count": 100,
   "metadata": {
    "collapsed": false
   },
   "outputs": [
    {
     "data": {
      "text/html": [
       "<div>\n",
       "<style scoped>\n",
       "    .dataframe tbody tr th:only-of-type {\n",
       "        vertical-align: middle;\n",
       "    }\n",
       "\n",
       "    .dataframe tbody tr th {\n",
       "        vertical-align: top;\n",
       "    }\n",
       "\n",
       "    .dataframe thead th {\n",
       "        text-align: right;\n",
       "    }\n",
       "</style>\n",
       "<table border=\"1\" class=\"dataframe\">\n",
       "  <thead>\n",
       "    <tr style=\"text-align: right;\">\n",
       "      <th></th>\n",
       "      <th>WS_40_mean</th>\n",
       "      <th>WS_40_mean</th>\n",
       "    </tr>\n",
       "  </thead>\n",
       "  <tbody>\n",
       "    <tr>\n",
       "      <th>0</th>\n",
       "      <td>3.8889</td>\n",
       "      <td>7.5224</td>\n",
       "    </tr>\n",
       "    <tr>\n",
       "      <th>1</th>\n",
       "      <td>2.9830</td>\n",
       "      <td>6.9951</td>\n",
       "    </tr>\n",
       "    <tr>\n",
       "      <th>2</th>\n",
       "      <td>3.9754</td>\n",
       "      <td>6.9640</td>\n",
       "    </tr>\n",
       "    <tr>\n",
       "      <th>3</th>\n",
       "      <td>2.4062</td>\n",
       "      <td>6.8213</td>\n",
       "    </tr>\n",
       "    <tr>\n",
       "      <th>4</th>\n",
       "      <td>2.6986</td>\n",
       "      <td>7.4790</td>\n",
       "    </tr>\n",
       "  </tbody>\n",
       "</table>\n",
       "</div>"
      ],
      "text/plain": [
       "    WS_40_mean   WS_40_mean\n",
       "0       3.8889       7.5224\n",
       "1       2.9830       6.9951\n",
       "2       3.9754       6.9640\n",
       "3       2.4062       6.8213\n",
       "4       2.6986       7.4790"
      ]
     },
     "execution_count": 100,
     "metadata": {},
     "output_type": "execute_result"
    }
   ],
   "source": [
    "Station=pd.concat( [Stat13[' WS_40_mean'], Stat14[' WS_40_mean']], axis=1)\n",
    "Station.dropna(inplace=True)\n",
    "Station.head()"
   ]
  },
  {
   "cell_type": "code",
   "execution_count": 101,
   "metadata": {
    "collapsed": true
   },
   "outputs": [],
   "source": [
    "\n",
    "# defining a function that converts my data in to a supervised way\n",
    "\n",
    "def series_to_supervised(data, n_in=1, n_out=1, dropnan=True):\n",
    "\tn_vars = 1 if type(data) is list else data.shape[1]\n",
    "\tdff = pd.DataFrame(data)\n",
    "\tcols, names = list(), list()\n",
    "\t# input sequence (t-n, ... t-1)\n",
    "\tfor i in range(n_in, 0, -1):\n",
    "\t\tcols.append(dff.shift(i))\n",
    "\t\tnames += [('Feature%d(t-%d)' % (j+1, i)) for j in range(n_vars)]\n",
    "\t# forecast sequence (t, t+1, ... t+n)\n",
    "\tfor i in range(0, n_out):\n",
    "\t\tcols.append(dff.shift(-i))\n",
    "\t\tif i == 0:\n",
    "\t\t\tnames += [('Output%d(t)' % (j+1)) for j in range(n_vars)]\n",
    "\t\telse:\n",
    "\t\t\tnames += [('Output%d(t+%d)' % (j+1, i)) for j in range(n_vars)]\n",
    "\t# put it all together\n",
    "\tagg = pd.concat(cols,axis=1)\n",
    "\tagg.columns = names\n",
    "\t# drop rows with NaN values\n",
    "\tif dropnan:\n",
    "\t\tagg.dropna(inplace=True)\n",
    "\treturn agg"
   ]
  },
  {
   "cell_type": "code",
   "execution_count": 102,
   "metadata": {
    "collapsed": false
   },
   "outputs": [
    {
     "name": "stdout",
     "output_type": "stream",
     "text": [
      "   Feature1(t-1)  Feature2(t-1)  Output1(t)  Output2(t)\n",
      "1       0.204561       0.267759    0.154235    0.248407\n",
      "2       0.154235       0.248407    0.209366    0.247266\n",
      "3       0.209366       0.247266    0.122191    0.242029\n",
      "4       0.122191       0.242029    0.138435    0.266166\n",
      "5       0.138435       0.266166    0.182956    0.267304\n"
     ]
    }
   ],
   "source": [
    "#scale all features in range of [0,1].\n",
    "\n",
    "values2 = Station.values \n",
    "# normalize features,0.1\n",
    "scaler2 = MinMaxScaler(feature_range=(0, 1))#scale all features in range of [0,1].\n",
    "\n",
    "values2 = Station.values \n",
    "# normalize features,0.1\n",
    "scaler2 = MinMaxScaler(feature_range=(0, 1))\n",
    "scaled2 = scaler2.fit_transform(values2)\n",
    "scaled2 = scaler2.fit_transform(values2)\n",
    "# frame as supervised learning\n",
    "look_back_hours2=1\n",
    "reframed2 = series_to_supervised(scaled2, look_back_hours2, 1)\n",
    "\n",
    "# drop columns we don't want to predict\n",
    "reframed2.drop(reframed2.columns[[]], axis=1, inplace=True)\n",
    "print(reframed2.head())\n"
   ]
  },
  {
   "cell_type": "code",
   "execution_count": 118,
   "metadata": {
    "collapsed": false
   },
   "outputs": [
    {
     "name": "stdout",
     "output_type": "stream",
     "text": [
      "(13157, 1, 2) (13157,) (2420, 1, 2) (2420,) (1731, 1, 2) (1731,)\n"
     ]
    }
   ],
   "source": [
    "# split into train and test sets\n",
    "values2 = reframed2.values\n",
    "\n",
    "n_train_time2 = int(len(values2)*0.76)\n",
    "train2 = values2[:n_train_time, :]\n",
    "test2 = values2[int(len(train2)):int(len(values2)*0.90), :]\n",
    "valid2 =values2[int(len(values2)*0.90):,:]\n",
    "\n",
    "n_features2 = Station.shape[-1]\n",
    "n_obs2 = look_back_hours2 * n_features2\n",
    "train_X2, train_y2 = train2[:, 0:n_obs2], train2[:, -n_features2]\n",
    "test_X2, test_y2 = test2[:, 0:n_obs2], test2[:, -n_features2]\n",
    "valid_X2, valid_y2 = valid2[:, 0:n_obs2], valid2[:, -n_features2]\n",
    "# reshape input to be 3D [samples, timesteps, features]\n",
    "train_X2 = train_X2.reshape((train_X2.shape[0], look_back_hours2, n_features2))\n",
    "test_X2 = test_X2.reshape((test_X2.shape[0], look_back_hours2, n_features2))\n",
    "valid_X2 = valid_X2.reshape((valid_X2.shape[0], look_back_hours2, n_features2))\n",
    "print(train_X2.shape, train_y2.shape, test_X2.shape, test_y2.shape, valid_X2.shape, valid_y2.shape)"
   ]
  },
  {
   "cell_type": "code",
   "execution_count": 119,
   "metadata": {
    "collapsed": false
   },
   "outputs": [
    {
     "name": "stdout",
     "output_type": "stream",
     "text": [
      "_________________________________________________________________\n",
      "Layer (type)                 Output Shape              Param #   \n",
      "=================================================================\n",
      "lstm_21 (LSTM)               (None, 1, 64)             17152     \n",
      "_________________________________________________________________\n",
      "dropout_15 (Dropout)         (None, 1, 64)             0         \n",
      "_________________________________________________________________\n",
      "lstm_22 (LSTM)               (None, 1, 32)             12416     \n",
      "_________________________________________________________________\n",
      "dropout_16 (Dropout)         (None, 1, 32)             0         \n",
      "_________________________________________________________________\n",
      "lstm_23 (LSTM)               (None, 32)                8320      \n",
      "_________________________________________________________________\n",
      "dense_9 (Dense)              (None, 1)                 33        \n",
      "=================================================================\n",
      "Total params: 37,921\n",
      "Trainable params: 37,921\n",
      "Non-trainable params: 0\n",
      "_________________________________________________________________\n"
     ]
    }
   ],
   "source": [
    "#For two stations\n",
    "model = Sequential()\n",
    "model.add(LSTM(64, return_sequences= True, activation='sigmoid', input_shape=(train_X2.shape[1], train_X2.shape[2])))\n",
    "model.add(Dropout(0.1))\n",
    "model.add(LSTM(32, activation='sigmoid',return_sequences=True ))\n",
    "model.add(Dropout(0.1))\n",
    "model.add(LSTM(32, activation='sigmoid'))\n",
    "model.add(Dense(1, activation='sigmoid'))\n",
    "sgd = optimizers.SGD(lr=0.2, decay=1e-5, momentum=0.9, nesterov=True)\n",
    "model.compile(loss='mse', optimizer='adam', metrics=['accuracy'])\n",
    "model.summary()"
   ]
  },
  {
   "cell_type": "code",
   "execution_count": 120,
   "metadata": {
    "collapsed": false
   },
   "outputs": [],
   "source": [
    "# fit network\n",
    "history = model.fit(train_X2, train_y2, epochs=100, batch_size=100, validation_data=(valid_X2, valid_y2), verbose=0, shuffle=False)"
   ]
  },
  {
   "cell_type": "code",
   "execution_count": 121,
   "metadata": {
    "collapsed": false
   },
   "outputs": [
    {
     "data": {
      "image/png": "[encoded data removed]",
      "text/plain": [
       "<Figure size 432x288 with 1 Axes>"
      ]
     },
     "metadata": {},
     "output_type": "display_data"
    }
   ],
   "source": [
    "# summarize history for loss\n",
    "pyplot.figure(figsize = (6,4))\n",
    "pyplot.plot(history.history['loss'])\n",
    "pyplot.plot(history.history['val_loss'])\n",
    "pyplot.title('1hour ahead forecast at height 60 : station 13')\n",
    "pyplot.ylabel('loss')\n",
    "pyplot.xlabel('epoch(s)')\n",
    "pyplot.legend(['train', 'valid'], loc='upper right')\n",
    "pyplot.show()"
   ]
  },
  {
   "cell_type": "code",
   "execution_count": 122,
   "metadata": {
    "collapsed": false
   },
   "outputs": [
    {
     "name": "stdout",
     "output_type": "stream",
     "text": [
      "Test RMSE: 1.430\n"
     ]
    }
   ],
   "source": [
    "# make a prediction\n",
    "predicted2 = model.predict(test_X2)\n",
    "test_X2 = test_X2.reshape((test_X2.shape[0], look_back_hours2*n_features2))\n",
    "# invert scaling for forecast\n",
    "inv_predicted2 = concatenate((predicted2, test_X2[:, -n_features2+1:]), axis=1)\n",
    "inv_predicted2 = scaler.inverse_transform(inv_predicted2)\n",
    "inv_predicted2= inv_predicted2[:,0]\n",
    "# invert scaling for actual\n",
    "test_y2 = test_y2.reshape((len(test_y2), 1))\n",
    "inv_y2 = concatenate((test_y2, test_X2[:, -n_features2+1:]), axis=1)\n",
    "inv_y2 = scaler.inverse_transform(inv_y2)\n",
    "inv_y2 = inv_y2[:,0]\n",
    "# calculate RMSE\n",
    "rmse = sqrt(mean_squared_error(inv_y2, inv_predicted2))\n",
    "print('Test RMSE: %.3f' % rmse)\n"
   ]
  },
  {
   "cell_type": "markdown",
   "metadata": {},
   "source": []
  },
  {
   "cell_type": "markdown",
   "metadata": {},
   "source": [
    "#\n",
    "\n",
    "\n",
    "# Persistence\n",
    "\n",
    "\n",
    "#"
   ]
  },
  {
   "cell_type": "code",
   "execution_count": 123,
   "metadata": {
    "collapsed": true
   },
   "outputs": [],
   "source": [
    "#Persistence forecast"
   ]
  },
  {
   "cell_type": "code",
   "execution_count": 124,
   "metadata": {
    "collapsed": false
   },
   "outputs": [
    {
     "name": "stdout",
     "output_type": "stream",
     "text": [
      "        t     t+1\n",
      "1  0.3510  2.6445\n",
      "2  2.6445  1.3932\n",
      "3  1.3932  2.7403\n",
      "4  2.7403  3.3009\n",
      "5  3.3009  4.0843\n"
     ]
    }
   ],
   "source": [
    "\n",
    "# Create lagged dataset\n",
    "values = pd.DataFrame(inv_y)\n",
    "values.dropna(inplace=True)\n",
    "dataframe = pd.concat([values.shift(1), values], axis=1)\n",
    "dataframe.columns = ['t', 't+1']\n",
    "dataframe.dropna(inplace=True)\n",
    "print(dataframe.head(5))"
   ]
  },
  {
   "cell_type": "code",
   "execution_count": 125,
   "metadata": {
    "collapsed": false
   },
   "outputs": [],
   "source": [
    "\n",
    "# split into train and test sets\n",
    "X = dataframe.values\n",
    "train_size = int(len(X) * 0.66)\n",
    "train, test = X[1:train_size], X[train_size:]\n",
    "train_X, train_y = train[:,0], train[:,1]\n",
    "test_X, test_y = test[:,0], test[:,1]"
   ]
  },
  {
   "cell_type": "code",
   "execution_count": 126,
   "metadata": {
    "collapsed": true
   },
   "outputs": [],
   "source": [
    "\n",
    "# persistence model\n",
    "def model_persistence(x):\n",
    "\treturn x\n"
   ]
  },
  {
   "cell_type": "code",
   "execution_count": 127,
   "metadata": {
    "collapsed": false,
    "scrolled": true
   },
   "outputs": [
    {
     "name": "stdout",
     "output_type": "stream",
     "text": [
      "Test RMSE: 1.430\n"
     ]
    }
   ],
   "source": [
    "predictions = list()\n",
    "for x in test_X:\n",
    "\tyhat = model_persistence(x)\n",
    "\tpredictions.append(yhat)\n",
    "test_score = np.sqrt(mean_squared_error(test_y, predictions))\n",
    "print('Test RMSE: %.3f' % test_score)"
   ]
  },
  {
   "cell_type": "markdown",
   "metadata": {},
   "source": [
    "#\n",
    "\n",
    "\n",
    "# Plots\n",
    "\n",
    "\n",
    "#"
   ]
  },
  {
   "cell_type": "code",
   "execution_count": 128,
   "metadata": {
    "collapsed": false
   },
   "outputs": [
    {
     "data": {
      "image/png": "[encoded data removed]",
      "text/plain": [
       "<Figure size 936x576 with 1 Axes>"
      ]
     },
     "metadata": {},
     "output_type": "display_data"
    }
   ],
   "source": [
    "aa=[x for x in range(200)]\n",
    "pyplot.figure(figsize = (13,8))\n",
    "pyplot.plot(predictions[-200:],marker='.', label=\"persistence\")\n",
    "pyplot.plot(aa, inv_y[-200:], marker='.', label=\"actual\")\n",
    "pyplot.plot(aa, inv_predicted[-200:], 'r', label=\"one stations prediction\")\n",
    "pyplot.plot(aa, inv_predicted2[-200:], label=\"added wind speed predictions\")\n",
    "pyplot.ylabel('Wind Speed (m/s)', size=12)\n",
    "pyplot.title(\"Station 14 added Station 13 at height 40\")\n",
    "pyplot.xlabel('hours', size=12)\n",
    "pyplot.grid()\n",
    "pyplot.legend(fontsize=12)\n",
    "pyplot.show()"
   ]
  },
  {
   "cell_type": "code",
   "execution_count": null,
   "metadata": {
    "collapsed": true
   },
   "outputs": [],
   "source": []
  },
  {
   "cell_type": "code",
   "execution_count": null,
   "metadata": {
    "collapsed": true
   },
   "outputs": [],
   "source": []
  }
 ],
 "metadata": {
  "kernelspec": {
   "display_name": "Python 3",
   "language": "python",
   "name": "python3"
  },
  "language_info": {
   "codemirror_mode": {
    "name": "ipython",
    "version": 3
   },
   "file_extension": ".py",
   "mimetype": "text/x-python",
   "name": "python",
   "nbconvert_exporter": "python",
   "pygments_lexer": "ipython3",
   "version": "3.5.3"
  }
 },
 "nbformat": 4,
 "nbformat_minor": 2
}
