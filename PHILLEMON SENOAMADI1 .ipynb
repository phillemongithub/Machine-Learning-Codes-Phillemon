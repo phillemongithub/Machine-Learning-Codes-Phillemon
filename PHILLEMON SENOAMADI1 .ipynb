{
 "cells": [
  {
   "cell_type": "markdown",
   "metadata": {
    "colab_type": "text",
    "id": "Y-iHJCekZ47N"
   },
   "source": [
    "# Project: Python Fundamentals\n",
    "\n",
    "You're appointed as a Software Developer at a new Development agency, \n",
    "\n",
    "In this project, you'll create software to give your clients financial advice."
   ]
  },
  {
   "cell_type": "markdown",
   "metadata": {
    "colab_type": "text",
    "id": "4OBoq2YHkZjj"
   },
   "source": [
    "***\n",
    "*** CODE OF CONDUCT: ***\n",
    "\n",
    "- You may use online resources for help, but you may not directly copy and paste any answers that are not your own.\n",
    "- You may not submit anyone else's work, but your own.\n",
    "- Every project will be sent through plagiarism detection software, and compared with every other project in the class.  If you are suspected of plagiarism you will receive zero for the assignment, together with a first disciplinary warning.\n",
    "\n",
    "***\n",
    "*** PROJECT RULES: ***\n",
    "\n",
    "- You may not import any external packages - all of the functions need to be solved ***WITHOUT THE USE OF EXTERNAL MODULES***.\n",
    "- ***Most importantly:*** your functions need to **`return`** the answer (not just print it out).\n",
    "- ***Do not add or remove any cells from this notebook***.  Use another notebook to experiment in (or in which to do your workings), but your submission may not have any additional cells or functions. \n",
    "- Only fill in code where the **`#YOUR CODE`**  tags appear. No code outside these areas (or outside the given functions) will be marked.\n",
    "\n"
   ]
  },
  {
   "cell_type": "markdown",
   "metadata": {
    "colab_type": "text",
    "id": "53GUiWszhw9R"
   },
   "source": [
    "## Function 1:  Savings Calculator\n",
    "\n",
    "Build a function **`savings_calculator(PMT, n, i)`**` that calculates your customer's savings at retirement, if they:\n",
    "- invest an amount, **`PMT`** at the end of every year (with the first payment in exactly one year's time from now),\n",
    "- for **`n` whole years**\n",
    "- at an interest rate of **`i`**% per year, compounded annually."
   ]
  },
  {
   "cell_type": "code",
   "execution_count": 50,
   "metadata": {
    "colab": {
     "autoexec": {
      "startup": false,
      "wait_interval": 0
     }
    },
    "colab_type": "code",
    "collapsed": true,
    "id": "o3HGpkBGZZcN"
   },
   "outputs": [],
   "source": [
    "### START FUNCTION 1\n",
    "\n",
    "def savings_calculator(PMT, n, i):\n",
    "    \n",
    "    # YOUR CODE HERE\n",
    "    FV=PMT*(1/i)*(((1 + i)**n)-1)\n",
    "    # Remember to round your answer to 2 decimal places:\n",
    "    FV = round(FV, 2)\n",
    "    return FV\n",
    "\n",
    "### END FUNCTION 1"
   ]
  },
  {
   "cell_type": "markdown",
   "metadata": {
    "colab_type": "text",
    "id": "0Hhs61WVkVfN"
   },
   "source": [
    "***IMPORTANT***: <br>\n",
    "Your function needs to **`return`** an `float` value ***rounded to 2 decimal places***.\n",
    "\n",
    "If your answer is not rounded correctly to 2 decimal places, you will receive 0 for the question.\n",
    "\n",
    "Make sure that the following tests all give a `True` result:"
   ]
  },
  {
   "cell_type": "code",
   "execution_count": 51,
   "metadata": {
    "colab": {
     "autoexec": {
      "startup": false,
      "wait_interval": 0
     }
    },
    "colab_type": "code",
    "collapsed": false,
    "id": "eAPFgCVAj7JQ"
   },
   "outputs": [
    {
     "data": {
      "text/plain": [
       "True"
      ]
     },
     "execution_count": 51,
     "metadata": {},
     "output_type": "execute_result"
    }
   ],
   "source": [
    "savings_calculator(20000, 15, 0.1) == 635449.63"
   ]
  },
  {
   "cell_type": "code",
   "execution_count": 52,
   "metadata": {
    "colab": {
     "autoexec": {
      "startup": false,
      "wait_interval": 0
     }
    },
    "colab_type": "code",
    "collapsed": false,
    "id": "CnbJ8HFakDM2"
   },
   "outputs": [
    {
     "data": {
      "text/plain": [
       "True"
      ]
     },
     "execution_count": 52,
     "metadata": {},
     "output_type": "execute_result"
    }
   ],
   "source": [
    "savings_calculator(10000, 20, 0.1) == 572749.99"
   ]
  },
  {
   "cell_type": "markdown",
   "metadata": {
    "colab_type": "text",
    "id": "42gFTL3qonAg"
   },
   "source": [
    "## Function 2:  Retirement Savings Calculator\n",
    "\n",
    "Build a function **`retirement_savings(PMT, i, start_age, end_age)`** that calculates your customer's savings at retirement, if they:\n",
    "- invest an amount, **`PMT`** at the end of every year (with the first payment made in exactly one year's time from now),\n",
    "- at an interest rate of **`i`**% per year, compounded annually.\n",
    "- They just turned **`start_age`** years old, and \n",
    "- they want to retire at the age of **`end_age`**\n",
    "\n",
    "<br><br>\n",
    "\n",
    "***IMPORTANT***: <br>\n",
    "Your function **may not call any of the other functions you've defined in this project** (i.e. you may not call `savings_calculator(PMT, n, i)` inside this function)\n",
    "\n",
    "You can assume that `start_age` < `end_age`, and both are positive integers."
   ]
  },
  {
   "cell_type": "code",
   "execution_count": 53,
   "metadata": {
    "colab": {
     "autoexec": {
      "startup": false,
      "wait_interval": 0
     }
    },
    "colab_type": "code",
    "collapsed": true,
    "id": "YJ4_S0poonAk"
   },
   "outputs": [],
   "source": [
    "### START FUNCTION 2\n",
    "\n",
    "def retirement_savings(PMT, i, start_age, end_age):\n",
    "\n",
    "    # YOUR CODE HERE\n",
    "    FV=PMT*(1/i)*(((1 + i)**(end_age-start_age))-1)\n",
    "    # Remember to round your answer to 2 decimal places:\n",
    "    FV = round(FV, 2)\n",
    "    return FV\n",
    "\n",
    "### END FUNCTION 2"
   ]
  },
  {
   "cell_type": "markdown",
   "metadata": {
    "colab_type": "text",
    "id": "DA0Ndo3qonAs"
   },
   "source": [
    "***IMPORTANT***: <br>\n",
    "Your function needs to **`return`** an `float` value ***rounded to 2 decimal places***.\n",
    "\n",
    "If your answer is not rounded correctly to 2 decimal places, you will receive 0 for the question.\n",
    "\n",
    "Make sure that the following tests all give a `True` result:"
   ]
  },
  {
   "cell_type": "code",
   "execution_count": 54,
   "metadata": {
    "colab": {
     "autoexec": {
      "startup": false,
      "wait_interval": 0
     }
    },
    "colab_type": "code",
    "collapsed": false,
    "id": "6hY4vbnXonAx"
   },
   "outputs": [
    {
     "data": {
      "text/plain": [
       "True"
      ]
     },
     "execution_count": 54,
     "metadata": {},
     "output_type": "execute_result"
    }
   ],
   "source": [
    "retirement_savings(20000, 0.1, 20, 35) == 635449.63"
   ]
  },
  {
   "cell_type": "code",
   "execution_count": 55,
   "metadata": {
    "colab": {
     "autoexec": {
      "startup": false,
      "wait_interval": 0
     }
    },
    "colab_type": "code",
    "collapsed": false,
    "id": "dhUN8TYQonA7"
   },
   "outputs": [
    {
     "data": {
      "text/plain": [
       "True"
      ]
     },
     "execution_count": 55,
     "metadata": {},
     "output_type": "execute_result"
    }
   ],
   "source": [
    "retirement_savings(10000, 0.1, 40, 60) == 572749.99"
   ]
  },
  {
   "cell_type": "markdown",
   "metadata": {
    "colab_type": "text",
    "id": "mO1S--GUq1cz"
   },
   "source": [
    "## Function 3:  Retirement Age Calculator\n",
    "\n",
    "Build a function **`retirement_age(PMT, i, FV, start_age)`** that calculates the (whole) age at which your customer can retire, if they:\n",
    "- invest an amount, **`PMT`** at the END of every YEAR (with the first payment made exactly one year from now),\n",
    "- at an interest rate of **`i`**% per year, compounded annually.\n",
    "- They require an amount of AT LEAST **`FV`** in order to be able to afford retirement.\n",
    "- They just turned **`start_age`** years old.\n",
    "\n",
    "<br><br>\n",
    "\n",
    "***IMPORTANT***: <br>\n",
    "Your function **may not call any of the other functions you've defined in this project** (i.e. you may not call `savings_calculator(PMT, n, i)` or `retirement_savings(PMT, i, start_age, end_age)` inside this function)\n",
    "\n",
    "You can assume that `start_age` is a positive integer."
   ]
  },
  {
   "cell_type": "code",
   "execution_count": 56,
   "metadata": {
    "colab": {
     "autoexec": {
      "startup": false,
      "wait_interval": 0
     }
    },
    "colab_type": "code",
    "collapsed": false,
    "id": "28Y6c7hhq1c1"
   },
   "outputs": [],
   "source": [
    "### START FUNCTION 3\n",
    "def retirement_age(PMT, i, FV, start_age):\n",
    "    # YOUR CODE HERE\n",
    "    investment_balance = 0\n",
    "    h=[0]\n",
    "    n=0\n",
    "    while h[n]<FV:\n",
    "            n=n+1\n",
    "            # add the interest earned on our investment account\n",
    "            interest =  investment_balance * i\n",
    "            investment_balance = investment_balance + interest\n",
    "            # at the end of the year we add our bonus to the investment\n",
    "            investment_balance = investment_balance + PMT\n",
    "            h.append(investment_balance)\n",
    "            age=len(h)-1+start_age\n",
    "    return(int(age))\n",
    "### END FUNCTION 3"
   ]
  },
  {
   "cell_type": "markdown",
   "metadata": {
    "colab_type": "text",
    "id": "fuSjDPB1q1c6"
   },
   "source": [
    "***IMPORTANT***: <br>\n",
    "Your function needs to **`return`** an **`int`** value ***rounded to 2 decimal places***.\n",
    "\n",
    "If your answer is not rounded correctly to 2 decimal places, you will receive 0 for the question.\n",
    "\n",
    "Make sure that the following tests all give a `True` result:"
   ]
  },
  {
   "cell_type": "code",
   "execution_count": 57,
   "metadata": {
    "colab": {
     "autoexec": {
      "startup": false,
      "wait_interval": 0
     }
    },
    "colab_type": "code",
    "collapsed": false,
    "id": "OcdkNDw1r-ez"
   },
   "outputs": [
    {
     "data": {
      "text/plain": [
       "True"
      ]
     },
     "execution_count": 57,
     "metadata": {},
     "output_type": "execute_result"
    }
   ],
   "source": [
    "retirement_age(20000, 0.1, 635339.63, 20) == 35"
   ]
  },
  {
   "cell_type": "code",
   "execution_count": 58,
   "metadata": {
    "colab": {
     "autoexec": {
      "startup": false,
      "wait_interval": 0
     }
    },
    "colab_type": "code",
    "collapsed": false,
    "id": "5V1yJGkKse52"
   },
   "outputs": [
    {
     "data": {
      "text/plain": [
       "True"
      ]
     },
     "execution_count": 58,
     "metadata": {},
     "output_type": "execute_result"
    }
   ],
   "source": [
    "retirement_age(10000, 0.1, 572749.99, 40) == 60"
   ]
  },
  {
   "cell_type": "markdown",
   "metadata": {
    "colab_type": "text",
    "id": "fz7TNoNatBtv"
   },
   "source": [
    "## Function 4:  Home Loan Affordability Calculator\n",
    "\n",
    "Build a function **`maximum_home_loan(PMT, i, n)`** that calculates the maximum home loan that your customer can afford, if they:\n",
    "- can afford to pay an amount, **`PMT`** at the END of every YEAR (with the first payment made exactly one year from now),\n",
    "- at an interest rate of **`i`**% per year, compounded annually, and\n",
    "- pay off the home over a term of **`n`** years.\n",
    "\n",
    "<br><br>\n",
    "\n",
    "***IMPORTANT***: <br>\n",
    "Your function **may not call any of the other functions you've defined in this project** \n",
    "\n",
    "Calculate the loan as the **present value of the future down-payments on the loan, discounted at an interest rate of i% per year**. (Use the present value of an annuity formula, a.k.a. discounted cash flow valuation - https://www.investopedia.com/walkthrough/corporate-finance/3/discounted-cash-flow/introduction.aspx)"
   ]
  },
  {
   "cell_type": "code",
   "execution_count": 59,
   "metadata": {
    "colab": {
     "autoexec": {
      "startup": false,
      "wait_interval": 0
     }
    },
    "colab_type": "code",
    "collapsed": true,
    "id": "mnK7JpmEtBtx"
   },
   "outputs": [],
   "source": [
    "### START FUNCTION 4\n",
    "\n",
    "def maximum_home_loan(PMT, i, n):\n",
    "    \n",
    "    # YOUR CODE HERE\n",
    "    total_present_value=PMT*(1/i)*(1-(1+i)**-n)\n",
    "    PV = round(total_present_value, 2)\n",
    "    return PV\n",
    "\n",
    "### END FUNCTION 4"
   ]
  },
  {
   "cell_type": "markdown",
   "metadata": {
    "colab_type": "text",
    "id": "JmHEOMGmtBt3"
   },
   "source": [
    "***IMPORTANT***: <br>\n",
    "Your function needs to **`return`** an `float` value ***correctly rounded to 2 decimal places***.\n",
    "\n",
    "If your answer is not rounded correctly to 2 decimal places, you will receive 0 for the question.\n",
    "\n",
    "Make sure that the following tests all give a `True` result:"
   ]
  },
  {
   "cell_type": "code",
   "execution_count": 60,
   "metadata": {
    "colab": {
     "autoexec": {
      "startup": false,
      "wait_interval": 0
     }
    },
    "colab_type": "code",
    "collapsed": false,
    "id": "Itfbe5dTtBt4"
   },
   "outputs": [
    {
     "data": {
      "text/plain": [
       "True"
      ]
     },
     "execution_count": 60,
     "metadata": {},
     "output_type": "execute_result"
    }
   ],
   "source": [
    "maximum_home_loan(15000*12, 0.1045, 30) == 1635153.79"
   ]
  },
  {
   "cell_type": "code",
   "execution_count": 61,
   "metadata": {
    "colab": {
     "autoexec": {
      "startup": false,
      "wait_interval": 0
     }
    },
    "colab_type": "code",
    "collapsed": false,
    "id": "ET8esvX0tBuF"
   },
   "outputs": [
    {
     "data": {
      "text/plain": [
       "True"
      ]
     },
     "execution_count": 61,
     "metadata": {},
     "output_type": "execute_result"
    }
   ],
   "source": [
    "maximum_home_loan(15000*12, 0.1045, 25) == 1578934.73"
   ]
  },
  {
   "cell_type": "markdown",
   "metadata": {
    "colab_type": "text",
    "id": "syK8HzfTYMtg"
   },
   "source": [
    "## Function 5:  Home Loan Affordability Calculator\n",
    "\n",
    "Build a function **`maximum_home_loan_with_age(PMT, i, start_age)`** that calculates the maximum home loan that your customer can afford, if they:\n",
    "- can afford to pay an amount, **`PMT`** at the every year on their birthday (starting from their next birthday),\n",
    "- at an interest rate of **`i`**% per year, compounded annually, \n",
    "- they just turned **`n`** years old, and they\n",
    "- pay off the loan until they turn **`65 years old`**.  I.e. their last payment is on their 65th birthday.\n",
    "\n",
    "<br><br>\n",
    "\n",
    "***IMPORTANT***: <br>\n",
    "Your function **may not call any of the other functions you've defined in this project**.\n",
    "\n",
    "Assume that **`start_age`** is an `int` value, and **`start_age < 65`**.\n",
    "\n",
    "\n",
    "Just like in Function 4, calculate the loan as the **present value of the future down-payments on the loan, discounted at an interest rate of i% per year**. (Use the present value of an annuity formula, a.k.a. discounted cash flow valuation - https://www.investopedia.com/walkthrough/corporate-finance/3/discounted-cash-flow/introduction.aspx)"
   ]
  },
  {
   "cell_type": "code",
   "execution_count": 62,
   "metadata": {
    "colab": {
     "autoexec": {
      "startup": false,
      "wait_interval": 0
     }
    },
    "colab_type": "code",
    "collapsed": false,
    "id": "nI5bnhw_YMtm"
   },
   "outputs": [],
   "source": [
    "### START FUNCTION 5\n",
    "\n",
    "def maximum_home_loan_with_age(PMT, i, start_age):\n",
    "    # YOUR CODE HERE\n",
    "    total_present_value=PMT*(1/i)*(1-(1+i)**-(65-start_age))\n",
    "    PV = round(total_present_value, 2)\n",
    "    return PV\n",
    "### END FUNCTION 5"
   ]
  },
  {
   "cell_type": "markdown",
   "metadata": {
    "colab_type": "text",
    "id": "VPyg4hufYMty"
   },
   "source": [
    "***IMPORTANT***: <br>\n",
    "Your function needs to **`return`** an `float` value ***correctly rounded to 2 decimal places***.\n",
    "\n",
    "If your answer is not rounded correctly to 2 decimal places, you will receive 0 for the question.\n",
    "\n",
    "Make sure that the following tests all give a `True` result:"
   ]
  },
  {
   "cell_type": "code",
   "execution_count": 63,
   "metadata": {
    "colab": {
     "autoexec": {
      "startup": false,
      "wait_interval": 0
     }
    },
    "colab_type": "code",
    "collapsed": false,
    "id": "I0zJEUcwYMt2"
   },
   "outputs": [
    {
     "data": {
      "text/plain": [
       "True"
      ]
     },
     "execution_count": 63,
     "metadata": {},
     "output_type": "execute_result"
    }
   ],
   "source": [
    "maximum_home_loan_with_age(15000*12, 0.1045, 35)  == 1635153.79"
   ]
  },
  {
   "cell_type": "code",
   "execution_count": 64,
   "metadata": {
    "colab": {
     "autoexec": {
      "startup": false,
      "wait_interval": 0
     }
    },
    "colab_type": "code",
    "collapsed": false,
    "id": "2ld9DE8dYMuE"
   },
   "outputs": [
    {
     "data": {
      "text/plain": [
       "True"
      ]
     },
     "execution_count": 64,
     "metadata": {},
     "output_type": "execute_result"
    }
   ],
   "source": [
    "maximum_home_loan_with_age(15000*12, 0.1045, 40) == 1578934.73"
   ]
  },
  {
   "cell_type": "markdown",
   "metadata": {
    "colab_type": "text",
    "id": "i_SzEp-rFlD4"
   },
   "source": [
    "## Function 6:  Loan Pay-Off Period Calculator\n",
    "\n",
    "Write a function **`pay_off_period(PV, PMT, i)`** that calculates the minimum number of years left until a loan is fully paid off, if:\n",
    "- the amount owned on the loan is currently equal to **`PV`**,\n",
    "- the loan is repaid at an amount, **`PMT`** at the END of every YEAR (with the first payment exactly 1 year from now),\n",
    "- at an interest rate of **`i`**% per year, compounded annually.\n",
    "\n",
    "<br><br>\n",
    "\n",
    "***IMPORTANT***: <br>\n",
    "Your function **may not call any of the other functions you've defined in this project**.\n",
    "\n",
    "\n",
    "Just like in Function 4 and 5, calculate the loan as the **present value of the future down-payments on the loan, discounted at an interest rate of i% per year**. (Use the present value of an annuity formula, a.k.a. discounted cash flow valuation - https://www.investopedia.com/walkthrough/corporate-finance/3/discounted-cash-flow/introduction.aspx)"
   ]
  },
  {
   "cell_type": "code",
   "execution_count": 65,
   "metadata": {
    "colab": {
     "autoexec": {
      "startup": false,
      "wait_interval": 0
     }
    },
    "colab_type": "code",
    "collapsed": true,
    "id": "Jm-0KH_1FlEA"
   },
   "outputs": [],
   "source": [
    "### START FUNCTION 6\n",
    "\n",
    "def pay_off_period(PV, PMT, i):\n",
    "  \n",
    "    # YOUR CODE HERE\n",
    "    n=1\n",
    "    d=[]\n",
    "    while sum(d)<=PV:\n",
    "        v=PMT/(1+i)**(n)\n",
    "        d.append(v)\n",
    "        n=n+1\n",
    "    n=len(d)\n",
    "    return int(n)\n",
    "### END FUNCTION 6"
   ]
  },
  {
   "cell_type": "markdown",
   "metadata": {
    "colab_type": "text",
    "id": "zW9xzHH2FlEK"
   },
   "source": [
    "***IMPORTANT***: <br>\n",
    "Your function needs to **`return`** an **`int`**.\n",
    "\n",
    "Make sure that the following tests all give a `True` result:"
   ]
  },
  {
   "cell_type": "code",
   "execution_count": 66,
   "metadata": {
    "colab": {
     "autoexec": {
      "startup": false,
      "wait_interval": 0
     }
    },
    "colab_type": "code",
    "collapsed": false,
    "id": "ijilqZ-OFlEN"
   },
   "outputs": [
    {
     "data": {
      "text/plain": [
       "True"
      ]
     },
     "execution_count": 66,
     "metadata": {},
     "output_type": "execute_result"
    }
   ],
   "source": [
    "pay_off_period(1635153, 15000*12, 0.1045) == 30"
   ]
  },
  {
   "cell_type": "code",
   "execution_count": 67,
   "metadata": {
    "colab": {
     "autoexec": {
      "startup": false,
      "wait_interval": 0
     }
    },
    "colab_type": "code",
    "collapsed": false,
    "id": "XiU8DcpfFlEY"
   },
   "outputs": [
    {
     "data": {
      "text/plain": [
       "True"
      ]
     },
     "execution_count": 67,
     "metadata": {},
     "output_type": "execute_result"
    }
   ],
   "source": [
    "pay_off_period(1578934, 15000*12, 0.1045) == 25"
   ]
  },
  {
   "cell_type": "markdown",
   "metadata": {
    "colab_type": "text",
    "id": "8HrDTdcsGJL0"
   },
   "source": [
    "## Function 7:  Investment Calculator\n",
    "\n",
    "Write a function **`investment(PMT, n, i)`** that calculates your customer's savings at some point in the future, if:\n",
    "- an amount  is invested at the END of every year, starting with amount of **`PMT`** at the end of this year,\n",
    "- at an interest rate of **`i`**% per year, compounded annually,\n",
    "- the investment amount **doubles every second year** (cumulatively).\n",
    "\n",
    "<br><br>\n",
    "\n",
    "***IMPORTANT***: <br>\n",
    "Your function **may not call any of the other functions you've defined in this project**."
   ]
  },
  {
   "cell_type": "code",
   "execution_count": 1,
   "metadata": {
    "colab": {
     "autoexec": {
      "startup": false,
      "wait_interval": 0
     }
    },
    "colab_type": "code",
    "collapsed": false,
    "id": "mCikydTGGJMI"
   },
   "outputs": [],
   "source": [
    "### START FUNCTION 7\n",
    "\n",
    "def investment(PMT, n, i):\n",
    "  \n",
    "    # YOUR CODE HERE\n",
    "    j=1\n",
    "    investment_balance=0\n",
    "    d=[]\n",
    "    while j<=n:\n",
    "        if j%2==0:\n",
    "            PMT=PMT*2\n",
    "        investment_balance*=(1+i)**1\n",
    "        investment_balance+=PMT\n",
    "        d.append(investment_balance)\n",
    "        j=j+1\n",
    "    return round(investment_balance, 2)\n",
    "\n",
    "### END FUNCTION 7"
   ]
  },
  {
   "cell_type": "markdown",
   "metadata": {
    "colab_type": "text",
    "id": "d4Cm7kg0GJMV"
   },
   "source": [
    "***IMPORTANT***: <br>\n",
    "Your function needs to **`return`** an `float` value ***correctly rounded to 2 decimal places***.\n",
    "\n",
    "If your answer is not rounded correctly to 2 decimal places, you will receive 0 for the question.\n",
    "\n",
    "Make sure that the following tests all give a `True` result:"
   ]
  },
  {
   "cell_type": "code",
   "execution_count": 2,
   "metadata": {
    "colab": {
     "autoexec": {
      "startup": false,
      "wait_interval": 0
     }
    },
    "colab_type": "code",
    "collapsed": false,
    "id": "CpfHhDtrGJMZ"
   },
   "outputs": [
    {
     "data": {
      "text/plain": [
       "True"
      ]
     },
     "execution_count": 2,
     "metadata": {},
     "output_type": "execute_result"
    }
   ],
   "source": [
    "investment(15000, 30, 0.1045) == 1954935238.47"
   ]
  },
  {
   "cell_type": "code",
   "execution_count": 3,
   "metadata": {
    "colab": {
     "autoexec": {
      "startup": false,
      "wait_interval": 0
     }
    },
    "colab_type": "code",
    "collapsed": false,
    "id": "9UG1tJqCGJMj"
   },
   "outputs": [
    {
     "data": {
      "text/plain": [
       "True"
      ]
     },
     "execution_count": 3,
     "metadata": {},
     "output_type": "execute_result"
    }
   ],
   "source": [
    "investment(10000, 40, 0.1045) == 41728281751.16"
   ]
  },
  {
   "cell_type": "code",
   "execution_count": null,
   "metadata": {
    "collapsed": true
   },
   "outputs": [],
   "source": []
  }
 ],
 "metadata": {
  "colab": {
   "collapsed_sections": [],
   "default_view": {},
   "name": "Project_Student.ipynb",
   "provenance": [],
   "version": "0.3.2",
   "views": {}
  },
  "kernelspec": {
   "display_name": "Python 3",
   "language": "python",
   "name": "python3"
  },
  "language_info": {
   "codemirror_mode": {
    "name": "ipython",
    "version": 3
   },
   "file_extension": ".py",
   "mimetype": "text/x-python",
   "name": "python",
   "nbconvert_exporter": "python",
   "pygments_lexer": "ipython3",
   "version": "3.5.3"
  }
 },
 "nbformat": 4,
 "nbformat_minor": 0
}
